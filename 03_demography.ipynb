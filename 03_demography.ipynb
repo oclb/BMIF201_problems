{
 "cells": [
  {
   "metadata": {},
   "cell_type": "markdown",
   "source": [
    "<h2>BMIF201 Lecture 3 in-class problem set instructions</h2>\n",
    "\n",
    "Open lecture03_wright_fisher.py and familiarize yourself with the modifications that have been made. There are no changes that you need to make."
   ],
   "id": "45699b44eb0cf1a1"
  },
  {
   "metadata": {},
   "cell_type": "code",
   "source": [
    "import numpy as np\n",
    "from lecture03_wright_fisher import WrightFisherMigration"
   ],
   "id": "9fe48c97b6508ecb",
   "outputs": [],
   "execution_count": null
  },
  {
   "metadata": {},
   "cell_type": "markdown",
   "source": [
    "<h5>Problem 1</h5>\n",
    "Implement the function below to calculate $F_{ST}$."
   ],
   "id": "42f93698c62bccb4"
  },
  {
   "metadata": {},
   "cell_type": "code",
   "source": [
    "def fixation_index(allele_frequencies_1: np.ndarray, allele_frequencies_2: np.ndarray) -> float:\n",
    "    numerator = ... # TODO\n",
    "    denominator = ... # TODO\n",
    "    return np.mean(numerator) / np.mean(denominator) # ratio of means, not mean of ratios\n",
    "\n",
    "assert np.isclose(fixation_index(np.array([0.1,0.2,0.3]), np.array([0.2, 0.1, 0.2])), 0.01694915254237288)"
   ],
   "id": "6161a02bac60fcc6",
   "outputs": [],
   "execution_count": null
  },
  {
   "metadata": {},
   "cell_type": "markdown",
   "source": [
    "<h5>Problem 2</h5>\n",
    "\n",
    "Simulate a source population at mutation-drift balance, and then simulate two populations with different $N$ diverging from it for $T$ generations, without migration. At each generation, calculate $F_{ST}$ between each pair of populations. Plot these three values of $F_{ST}$ over time. Discuss with your partner: what do you notice about the three lines? (Hint: what are their pairwise sums?)"
   ],
   "id": "c7a29a0000f5b1d2"
  },
  {
   "metadata": {},
   "cell_type": "code",
   "source": [
    "num_sites = 1_000\n",
    "N_source = [100] # model now expects a list or array of values for N\n",
    "N_derived = [100, 400]\n",
    "mutation_rate = 0.001\n",
    "source_generations = 10 * N_source\n",
    "divergence_generations = 50\n",
    "\n",
    "source_frequencies = np.ones(num_sites) / N_source\n",
    "source_model = ... # TODO call WrightFisherMigration()\n",
    "for generation in range(source_generations):\n",
    "    source_frequencies = ... # TODO\n",
    "\n",
    "divergence_frequencies = np.ones((2,1)) @ source_frequencies # two identical rows\n",
    "divergence_model = ... # TODO\n",
    "FST_source_derived_1 = np.zeros(divergence_generations)\n",
    "FST_source_derived_2 = np.zeros(divergence_generations)\n",
    "FST_derived_1_derived_2 = np.zeros(divergence_generations)\n",
    "for generation in range(divergence_generations):\n",
    "    divergence_frequencies = ... # TODO\n",
    "    FST_source_derived_1[generation] = ... # TODO\n",
    "    FST_source_derived_2[generation] = ... # TODO\n",
    "    FST_derived_1_derived_2[generation] = ... # TODO\n",
    "    "
   ],
   "id": "2ef1354ae6e58df5",
   "outputs": [],
   "execution_count": null
  },
  {
   "metadata": {},
   "cell_type": "code",
   "source": [
    "import matplotlib.pyplot as plt\n",
    "plt.figure(figsize=(10, 6))\n",
    "plt.plot(range(1, 1+divergence_generations), FST_source_derived_1)\n",
    "plt.plot(range(1, 1+divergence_generations), FST_source_derived_2)\n",
    "plt.plot(range(1, 1+divergence_generations), FST_derived_1_derived_2)\n",
    "# Add other things to the plot if you wish\n",
    "\n",
    "plt.xlabel('Generations of divergence', fontsize=14)\n",
    "plt.ylabel('Fixation index', fontsize=14)\n",
    "plt.legend([\"Source vs derived 1\", \"Source vs derived 2\", \"Derived 1 vs derived 2\"])\n",
    "\n",
    "plt.show()"
   ],
   "id": "113bb5f8ae39f73f",
   "outputs": [],
   "execution_count": null
  },
  {
   "metadata": {},
   "cell_type": "markdown",
   "source": [
    "\n",
    "<h5>Problem 3</h5>\n",
    "\n",
    "Add a low rate of migration between the two derived populations, and recreate your plot. Discuss with your partner: what is different now, and why? Vary the size of each derived population; what changes, and why?"
   ],
   "id": "4056924ab86044ec"
  },
  {
   "metadata": {},
   "cell_type": "code",
   "source": [
    "migration_rate = ... # TODO\n",
    "\n",
    "# This matrix results in symmetric migration with the specified rate; feel free to modify\n",
    "migration_rate_matrix = np.array([[1 - migration_rate, migration_rate],[migration_rate, 1 - migration_rate]])\n",
    "\n",
    "#  TODO"
   ],
   "id": "9b0f95f1fd104aeb",
   "outputs": [],
   "execution_count": null
  },
  {
   "metadata": {},
   "cell_type": "markdown",
   "source": [
    "<h5>Optional Problem 4</h5>\n",
    "\n",
    "Simulate 10 generations of divergence between two populations with a vector of starting allele frequencies all equal to 0.1. After 10 generations (i.e., fewer than $N$), make a histogram of $p_1-p_2$. What is its distribution? Discuss with your partner: why is this the distribution that you get? Do you expect that you will get the same distribution after $N$ generations or more?\n"
   ],
   "id": "53ffcc81c94ef209"
  },
  {
   "metadata": {},
   "cell_type": "code",
   "source": "",
   "id": "5f221974bbbe3aa6",
   "outputs": [],
   "execution_count": null
  }
 ],
 "metadata": {
  "kernelspec": {
   "display_name": "Python 3",
   "language": "python",
   "name": "python3"
  },
  "language_info": {
   "codemirror_mode": {
    "name": "ipython",
    "version": 2
   },
   "file_extension": ".py",
   "mimetype": "text/x-python",
   "name": "python",
   "nbconvert_exporter": "python",
   "pygments_lexer": "ipython2",
   "version": "2.7.6"
  }
 },
 "nbformat": 4,
 "nbformat_minor": 5
}
