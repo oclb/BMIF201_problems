{
 "cells": [
  {
   "cell_type": "markdown",
   "source": [
    "<h2>BMIF201 Lecture 2 in-class problem set instructions</h2>\n",
    "\n",
    "This ungraded in-class problemset is intended to be completed in assigned groups of 2-3 in class. All members of each group should type their own solutions, but the solutions can be exactly identical. Feel free to ask other groups, the TAs, or the professor for assistance. Your homework for this unit will build upon the work that you do in these worksheets, so please make sure you complete them. \n",
    "\n",
    "None of the questions should require computations that take more than a few seconds, although it's OK if they take longer. If you find yourself waiting for a solution to run, try using smaller simulation parameters.\n",
    "\n",
    "You will modify the Wright-Fisher model you implemented last time to add the effect of selection, and verify several of the results that we learned today in lecture. \n"
   ],
   "metadata": {
    "collapsed": false
   },
   "id": "7d0f977745ebf497"
  },
  {
   "metadata": {},
   "cell_type": "markdown",
   "source": [
    "<h5>Problem 1</h5>\n",
    "1. Open lecture02_wright_fisher.py in your text editor and find the item marked TODO. One you've implemented it, you should be able to run the block below without error."
   ],
   "id": "38fb42d79341ba35"
  },
  {
   "cell_type": "code",
   "source": [
    "import numpy as np\n",
    "from lecture02_wright_fisher import WrightFisher\n",
    "num_sites = 5\n",
    "mutation_rate = 1e-1\n",
    "selection_coefficient = 1e-1\n",
    "population_size = 100\n",
    "model = WrightFisher(mutation_rate, population_size, selection_coefficient)\n",
    "generation_zero_frequency = np.array([0.1, 0.2, 0.3, 0.4, 0.5]) \n",
    "\n",
    "np.random.seed(123)\n",
    "generation_one_frequency = model.next_generation(generation_zero_frequency)\n",
    "assert np.all(generation_one_frequency == np.array([0.205, 0.265, 0.39, 0.435, 0.47]))"
   ],
   "metadata": {
    "collapsed": false
   },
   "id": "f0376e7b97dcc7e",
   "outputs": [],
   "execution_count": null
  },
  {
   "metadata": {},
   "cell_type": "markdown",
   "source": "2. Recall that in lecture, we derived that the fixation probability of a beneficial allele with selection coefficient s, beginning at an allele frequency of $1/2N$, is approximately $2s$. Verify that this is approximately true when $1/N << 2s << 1$. What happens when $2s < 1/N$, and when $2s>1$? Discuss with your partner why this makes sense.\n",
   "id": "952268a83117e0dd"
  },
  {
   "cell_type": "code",
   "source": [
    "num_sites = 10_000\n",
    "mutation_rate = 0\n",
    "selection_coefficient_array = [2**x for x in range(-12,2)]\n",
    "population_size = 100\n",
    "fixation_probability = [] \n",
    "for selection_coefficient in selection_coefficient_array:\n",
    "    allele_frequency = np.ones(num_sites) / (2 * population_size)\n",
    "    model = ...# TODO\n",
    "    allele_frequency, _ = ... # TODO \n",
    "    fixation_probability.append(np.mean(allele_frequency))"
   ],
   "metadata": {
    "collapsed": false
   },
   "id": "645af741c30bfe66",
   "outputs": [],
   "execution_count": null
  },
  {
   "metadata": {},
   "cell_type": "code",
   "source": [
    "import matplotlib.pyplot as plt\n",
    "plt.figure(figsize=(10, 6))\n",
    "plt.plot(selection_coefficient_array, [2 * s for s in selection_coefficient_array])\n",
    "plt.scatter(selection_coefficient_array, fixation_probability, color='red')\n",
    "\n",
    "plt.xlabel('Selection coefficient', fontsize=14)\n",
    "plt.ylabel('Fixation probability', fontsize=14)\n",
    "plt.legend([\"2s\", \"u\"])\n",
    "plt.xscale('log')\n",
    "plt.yscale('log')\n",
    "\n",
    "plt.show()"
   ],
   "id": "53ce6b97cd3d7cf9",
   "outputs": [],
   "execution_count": null
  },
  {
   "metadata": {},
   "cell_type": "markdown",
   "source": [
    "<h5>Problem 2</h5>\n",
    "\n",
    "In medical genetics, it is often useful to know whether a human gene is \"constrained\", and in particular whether protein truncating variants (PTVs) in that gene show strong evidence of negative selection. (A PTV is an allele that completely ablates gene function, often by introducing a premature stop codon and triggering nonsense-mediated decay). In this problem, you will implement a simulations-based test for constraint. \n",
    "\n",
    "Suppose that you have genetic data for a population of size $N=100$. Moreover, there are $L=100$ sites at which a mutation could create a PTV (possibly, not all of which are observed in your data), each of which has a mutation rate of $\\mu=0.001$. All PTVs in the gene have the same selection coefficient, $s$, which is unknown.\n",
    "\n",
    "Using simulations, you will compute the null distribution of a statistic that can be used to test for constraint.\n",
    "1. Decide with your partner: what is an easily-computed statistic such that you expect it to be different when $s<<0$ vs. when $s=0$? (Multiple answers are possible, but I recommend computing something simple; the point is not to come up with something intuitive, not necessarily optimal). \n",
    "2. Simulate the null distribution for your statistic, with $s=0$. Plot a histogram of this distribution.\n",
    "3. Simulate the non-null distribution for your statistic for a few values of $s<0$. For each non-null value of your statistic $X$, let $k_{smaller}$ be the number of null simulations whose statistic was less than or equal to $X$ out of $k_{total}$ in total. Compute the empirical p-value using the following formula:\n",
    "$$\\text{p-value} = \\frac{1+k_{smaller}}{1+k_{total}}.$$\n",
    "4. Plot the median p-value for each value of $s$. Discuss with your partner: what are the factors (besides $s$) that influence the statistical power of your test? Vary some of those factors and test your intuition.\n",
    "\n",
    "The solution has been partially completed for you already. Read the code blocks below and fill in the items marked TODO.\n"
   ],
   "id": "9a5f8107d73f83ec"
  },
  {
   "metadata": {
    "ExecuteTime": {
     "end_time": "2024-09-29T15:11:56.864245Z",
     "start_time": "2024-09-29T15:11:56.858168Z"
    }
   },
   "cell_type": "code",
   "source": [
    "num_sites = 100\n",
    "mutation_rate = 0.001\n",
    "population_size = 100\n",
    "num_generations = population_size\n",
    "\n",
    "def simulate_gene(selection_coefficient) -> np.ndarray:\n",
    "    model = WrightFisher(mutation_rate, population_size, selection_coefficient)\n",
    "    af = np.ones(num_sites) / population_size\n",
    "    for i in range(num_generations):\n",
    "        af = model.next_generation(af)\n",
    "    return af"
   ],
   "id": "dc1a4e5efd4c321c",
   "outputs": [],
   "execution_count": 5
  },
  {
   "metadata": {},
   "cell_type": "code",
   "source": [
    "def constraint_statistic(allele_frequency):\n",
    "    return ... # TODO\n",
    "\n",
    "selection_coefficient = 0\n",
    "null_constraint_statistics = []\n",
    "num_genes = 1000\n",
    "for gene in range(num_genes):\n",
    "    # TODO\n",
    "    null_constraint_statistics.append(...) # TODO\n",
    "    \n",
    "plt.figure(figsize=(10, 6))\n",
    "plt.hist(null_constraint_statistics, bins=20, alpha=0.7, color='blue', edgecolor='black')\n",
    "pass"
   ],
   "id": "15e817ab6c31a20c",
   "outputs": [],
   "execution_count": null
  },
  {
   "metadata": {},
   "cell_type": "code",
   "source": [
    "def empirical_pvalue(null_distribution: list, observed_statistic: float) -> float:\n",
    "    return ... # TODO\n",
    "    \n",
    "selection_coefficient = ... # TODO\n",
    "nonnull_constraint_statistics = []\n",
    "num_genes = 100\n",
    "for gene in range(num_genes):\n",
    "    # TODO\n",
    "    nonnull_constraint_statistics.append(...) # TODO\n",
    "\n",
    "p_values = [empirical_pvalue(null_constraint_statistics, x) for x in nonnull_constraint_statistics]\n",
    "print(np.median(p_values))"
   ],
   "id": "5c4d3698f174ace2",
   "outputs": [],
   "execution_count": null
  },
  {
   "metadata": {},
   "cell_type": "markdown",
   "source": [
    "<h3>Optional problems</h3>\n",
    "\n",
    "If you finish the problems above early, please work on the following problem with your partner. \n",
    "\n",
    "<h5>Problem 3</h5>\n",
    "\n",
    "We learned in lecture that the fixation time of a beneficial allele is much smaller than that of a neutral allele. Find the average fixation time for a few positive values of $s$. Next, find the fixation time of a deleterious allele having the same absolute selection coefficient: what do you notice? Discuss with your partner and try to get intuition for this phenomenon."
   ],
   "id": "dbd654d33d806dab"
  },
  {
   "metadata": {},
   "cell_type": "code",
   "source": [],
   "id": "6bdad3e6390c8aa0",
   "outputs": [],
   "execution_count": null
  }
 ],
 "metadata": {
  "kernelspec": {
   "display_name": "Python 3",
   "language": "python",
   "name": "python3"
  },
  "language_info": {
   "codemirror_mode": {
    "name": "ipython",
    "version": 2
   },
   "file_extension": ".py",
   "mimetype": "text/x-python",
   "name": "python",
   "nbconvert_exporter": "python",
   "pygments_lexer": "ipython2",
   "version": "2.7.6"
  }
 },
 "nbformat": 4,
 "nbformat_minor": 5
}
