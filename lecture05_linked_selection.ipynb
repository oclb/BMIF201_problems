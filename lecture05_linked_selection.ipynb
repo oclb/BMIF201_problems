{
 "cells": [
  {
   "metadata": {},
   "cell_type": "markdown",
   "source": [
    "<h2>BMIF201 Lecture 5 in-class problem set instructions</h2>\n",
    "\n",
    "This problem set investigates the ways in which selection interacts with linkage and demography. "
   ],
   "id": "84ad12e97578c6f8"
  },
  {
   "metadata": {},
   "cell_type": "markdown",
   "source": [
    "<h5> Problem 1 </h5>\n",
    "\n",
    "Many human populations have experienced a bottleneck or founder event, involving a reduction in population size and subsequent expansion. Such an event affects the allele frequency spectrum of existing deleterious alleles: some rise to higher frequencies due to the increased rate of drift, while others are lost. This phenomenon is important medically because some groups, like Ashekenazi Jews, have a higher burden of certain genetic diseases as a result of their demographic history. \n",
    "\n",
    "Use the model that we worked with in Lecture 2. Simulate a population with some influx of deleterious alleles. Simulate several generations of a population bottleneck, followed by an abrupt recovery. Several generations later, examine the frequency spectrum of deleterious alleles: what do you notice? Calculate the mean and variance of this distribution, both before and after the bottleneck, and discuss with your partner the medical implications of what you find.\n",
    " "
   ],
   "id": "94f4db4dead87551"
  },
  {
   "metadata": {
    "ExecuteTime": {
     "end_time": "2024-10-09T18:02:59.293887Z",
     "start_time": "2024-10-09T18:02:59.292360Z"
    }
   },
   "cell_type": "code",
   "source": "",
   "id": "4092063d21eb5472",
   "outputs": [],
   "execution_count": null
  },
  {
   "metadata": {},
   "cell_type": "markdown",
   "source": [
    "<h5>Problem 2</h5>\n",
    "Next, you will modify the Wright Fisher simulator to include the effect of linkage. Instead of performing binomial sampling on allele frequencies directly, simulate a matrix of genotypes and sample rows of the genotype matrix in the next generation. Check that in neutral simulations, you still get that the mean heterozygosity is $4N\\mu$."
   ],
   "id": "a9dfd7a09bc75e7b"
  },
  {
   "metadata": {},
   "cell_type": "code",
   "outputs": [],
   "execution_count": null,
   "source": "",
   "id": "832c2f0a33b2cf36"
  },
  {
   "metadata": {},
   "cell_type": "markdown",
   "source": [
    "\n",
    "\n",
    "<h5>Problem 3</h5>\n",
    "Now, you'll modify your simulation to include the effect of selection. Model the relative fitness of each haplotype using this formula, which guarantess it will not be negative:\n",
    "$$W=\\exp(X_1s_1+\\cdots+X_Ls_L).$$\n",
    "Under this model, $s$ is a log-odds ratio.\n",
    "\n",
    "Without recombination, populations are subject to the accumulation of deleterious alleles via *Muller's ratchet*. Run a simulation where new mutations are deleterious. Plot the combined frequency of deleterious alleles over time. Then, run a similar simulation in the absence of recombination: you should observe that the deleterious mutational load is smaller. Discuss with your partner: why does this make sense? \n"
   ],
   "id": "34a0f930aa136ff"
  },
  {
   "metadata": {},
   "cell_type": "code",
   "outputs": [],
   "execution_count": null,
   "source": "",
   "id": "48a0f6953955d31"
  }
 ],
 "metadata": {
  "kernelspec": {
   "display_name": "Python 3",
   "language": "python",
   "name": "python3"
  },
  "language_info": {
   "codemirror_mode": {
    "name": "ipython",
    "version": 2
   },
   "file_extension": ".py",
   "mimetype": "text/x-python",
   "name": "python",
   "nbconvert_exporter": "python",
   "pygments_lexer": "ipython2",
   "version": "2.7.6"
  }
 },
 "nbformat": 4,
 "nbformat_minor": 5
}
