{
 "cells": [
  {
   "cell_type": "markdown",
   "source": [
    "<h2>BMIF201 Lecture 1 in-class problem set instructions</h2>\n",
    "\n",
    "This ungraded in-class problemset is intended to be completed in assigned groups of 2-3 in class. All members of each group should type their own solutions, but the solutions can be exactly identical. Feel free to ask other groups, the TAs, or the professor for assistance. Your homework for this unit will build upon the work that you do in these worksheets, so please make sure you complete them. \n",
    "\n",
    "None of the questions should require computations that take more than a few seconds, although it's OK if they take longer. If you find yourself waiting for a solution  to run, try using smaller simulation parameters.\n",
    "\n",
    "You will implement the Wright-Fisher model and verify several of the results that we learned today in lecture. First, open wright_fisher.py in your text editor, familiarize yourself with the code that has been written, and find the item marked TODO. One you've implemented it, you should be able to run the following two blocks without error.\n"
   ],
   "metadata": {
    "collapsed": false
   },
   "id": "3d39ee3fd8cef8b4"
  },
  {
   "cell_type": "code",
   "id": "initial_id",
   "metadata": {
    "collapsed": true
   },
   "source": [
    "import numpy as np\n",
    "from wright_fisher import WrightFisher"
   ],
   "outputs": [],
   "execution_count": null
  },
  {
   "cell_type": "code",
   "source": [
    "num_sites = 5\n",
    "mutation_rate = 1e-1\n",
    "population_size = 100\n",
    "model = WrightFisher(mutation_rate, population_size)\n",
    "generation_zero_frequency = np.array([0.1, 0.2, 0.3, 0.4, 0.5]) \n",
    "\n",
    "np.random.seed(123)\n",
    "generation_one_frequency = model.next_generation(generation_zero_frequency)\n",
    "assert np.all(generation_one_frequency == np.array([0.195, 0.255, 0.375, 0.415, 0.55]))"
   ],
   "metadata": {
    "collapsed": false
   },
   "id": "84b6a9aeb0e04434",
   "outputs": [],
   "execution_count": null
  },
  {
   "cell_type": "markdown",
   "source": [
    "<h5> Problem 1 </h5>\n",
    "\n",
    "Recall that the variance of the $Binomial(n,p)$ distribution is $np(1-p)$. What is the variance of $p_{t+1}$ given $p_t$?"
   ],
   "metadata": {
    "collapsed": false
   },
   "id": "561932b241c0b3fd"
  },
  {
   "cell_type": "code",
   "source": [
    "def variance_in_frequency_per_generation(starting_frequency, population_size):\n",
    "    #  TODO fill in the analytical formula for var(p_1|p_0)\n",
    "\n",
    "assert np.isclose(variance_in_frequency_per_generation(0.2, 100), 0.0008)"
   ],
   "metadata": {
    "collapsed": false
   },
   "id": "b3a012496196c68e",
   "outputs": [],
   "execution_count": null
  },
  {
   "cell_type": "markdown",
   "source": [
    "Verify that in your simulations, the sample variance agrees with what you calculated above."
   ],
   "metadata": {
    "collapsed": false
   },
   "id": "442966f8c1d16b64"
  },
  {
   "cell_type": "code",
   "source": [
    "num_sites = 10_000\n",
    "mutation_rate = 0\n",
    "population_size = [10, 100, 1000, 10_000]\n",
    "starting_frequency = 0.2\n",
    "\n",
    "simulated_variance = []\n",
    "calculated_variance = []\n",
    "for n in population_size:\n",
    "    model = WrightFisher(mutation_rate, n)\n",
    "    # TODO\n",
    "    simulated_variance.append(...)  # you can use np.var\n",
    "    calculated_variance.append(...)\n",
    "    \n",
    "print(simulated_variance)\n",
    "print(calculated_variance)"
   ],
   "metadata": {
    "collapsed": false
   },
   "id": "f995fffd3cdb606a",
   "outputs": [],
   "execution_count": null
  },
  {
   "cell_type": "markdown",
   "source": [
    "<h5> Problem 2 </h5>\n",
    "\n",
    "Recall that the probability of fixation for a neutral allele with starting frequency $p$ is $u(p)=p$. Using the function WrightFisher.until_fixation, verify this for the provided values of $N$ and $p$ by plotting $u(p)$ vs. $p$. A plotting script is provided."
   ],
   "metadata": {
    "collapsed": false
   },
   "id": "55e774e4dfc1fcc5"
  },
  {
   "cell_type": "code",
   "source": [
    "num_sites = 1_000\n",
    "mutation_rate = 0\n",
    "population_size = 100\n",
    "starting_frequency = np.arange(1,10) / 10\n",
    "simulated_fixation_probability = []\n",
    "\n",
    "model = WrightFisher(mutation_rate, population_size)\n",
    "for p in starting_frequency:\n",
    "    # TODO\n",
    "    simulated_fixation_probability.append(...)\n"
   ],
   "metadata": {
    "collapsed": false
   },
   "id": "715da15a00280c66",
   "outputs": [],
   "execution_count": null
  },
  {
   "metadata": {},
   "cell_type": "code",
   "source": [
    "import matplotlib.pyplot as plt\n",
    "plt.figure(figsize=(10, 6))\n",
    "plt.plot(starting_frequency, simulated_fixation_probability)\n",
    "\n",
    "plt.xlabel('Starting frequency', fontsize=14)\n",
    "plt.xlim(left=0)\n",
    "plt.ylabel('Fixation probability', fontsize=14)\n",
    "\n",
    "plt.show()"
   ],
   "id": "b730cfbe2063bf99",
   "outputs": [],
   "execution_count": null
  },
  {
   "cell_type": "markdown",
   "source": [
    "Recall that the time to fixation or for a rare allele is approximately $4N$ generations. Verify this for the parameters below, and plot a histogram of the fixation time. \n",
    "\n"
   ],
   "metadata": {
    "collapsed": false
   },
   "id": "b735c6bb7a080dde"
  },
  {
   "cell_type": "code",
   "source": [
    "num_sites = 100_000\n",
    "mutation_rate = 0\n",
    "population_size = 100\n",
    "starting_frequency = 1 / population_size\n",
    "\n",
    "model = WrightFisher(mutation_rate, population_size)\n",
    "allele_frequencies, stopping_times = # TODO\n",
    "fixation_times = # TODO\n",
    "\n",
    "print(f\"Number of fixed sites: {np.sum(allele_frequencies)}\")\n",
    "print(f\"Mean fixation time: {np.mean(fixation_times)}\")"
   ],
   "metadata": {
    "collapsed": false
   },
   "id": "536b6e9013f2e986",
   "outputs": [],
   "execution_count": null
  },
  {
   "cell_type": "code",
   "source": [
    "# Plot the histogram of fixation times\n",
    "# TODO"
   ],
   "metadata": {
    "collapsed": false
   },
   "id": "bc09d7683d3ae34f",
   "outputs": [],
   "execution_count": null
  },
  {
   "cell_type": "markdown",
   "source": [
    "<h5> Problem 3 </h5>\n",
    "\n",
    "In lecture we derived the mean heterozygosity at equilibrium:\n",
    "$$E(2p(1-p))\\approx 4N\\mu$$\n",
    "Show that with a population size of 100, the approximation is good for small $\\mu$. Find the approximate value of $\\mu$ at which the approximation breaks down. Hint: >N generations are required to reach equilibrium."
   ],
   "metadata": {
    "collapsed": false
   },
   "id": "7f66ff54f5510876"
  },
  {
   "cell_type": "code",
   "source": [
    "num_sites = 1_000\n",
    "population_size = 100\n",
    "starting_frequency = 1 / population_size\n",
    "mutation_rate = # TODO\n",
    "frequency = starting_frequency * np.ones(num_sites)\n",
    "mean_heterozygosity = []\n",
    "for mu in mutation_rate:\n",
    "    # TODO \n",
    "\n",
    "print(mean_heterozygosity)\n",
    "print(4 * np.asarray(mutation_rate) * population_size)"
   ],
   "metadata": {
    "collapsed": false
   },
   "id": "d3ae447bb617b14b",
   "outputs": [],
   "execution_count": null
  },
  {
   "cell_type": "markdown",
   "source": [
    "<h5> Problem 4 </h5>\n",
    "\n",
    "Recall that in population at mutation-drift balance, the site frequency spectrum (SFS) of polymorphic sites is:\n",
    "$$E(s_k)\\propto 1/k$$\n",
    "where $s_k$ is the number of variants with allele count equal to $k$. Confirm this in simulations by plotting the SFS after a large enough number of generations that equilibrium has been reached. A plotting script has been provided for you. "
   ],
   "metadata": {
    "collapsed": false
   },
   "id": "468d927c6eafccfb"
  },
  {
   "cell_type": "code",
   "source": [
    "num_sites = 100_000\n",
    "population_size = 100\n",
    "mutation_rate = 0.00001 # small positive number\n",
    "num_generations = 1000 # >> population_size\n",
    "# TODO\n",
    "allele_frequencies = ..."
   ],
   "metadata": {
    "collapsed": false
   },
   "id": "2a3377c7679defae",
   "outputs": [],
   "execution_count": null
  },
  {
   "cell_type": "code",
   "source": [
    "# Histogram of minor allele counts\n",
    "minor_allele_frequency = np.minimum(allele_frequencies, 1-allele_frequencies)\n",
    "minor_allele_count_positive = minor_allele_frequency[minor_allele_frequency > 0] * 2 * population_size\n",
    "plt.figure(figsize=(10, 6))\n",
    "plt.hist(minor_allele_count_positive, bins=population_size, alpha=0.7, color='blue', edgecolor='black')\n",
    " \n",
    "# Plot y = 1/x\n",
    "x = np.arange(1,population_size)\n",
    "y = np.sum(minor_allele_count_positive == 1) / x\n",
    "plt.plot(x, y, color='red', label='y = 1/x', linewidth=2)\n",
    "\n",
    "plt.title('Neutral site frequency spectrum under infinite sites')\n",
    "plt.ylabel('Count')\n",
    "plt.xlabel('Minor allele frequency')\n",
    "\n",
    "plt.show()"
   ],
   "metadata": {
    "collapsed": false
   },
   "id": "5c6731d80770be97",
   "outputs": [],
   "execution_count": null
  },
  {
   "cell_type": "markdown",
   "source": [
    "<h5> Problem 5 </h5>\n",
    "\n",
    "The number of segregating sites in a population is the number of sites at which any two individuals differ. In a large population, the number of segregating sites grows, and most are rare. Calculate the mean heterozygosity *of segregating sites*, $E(p(1-p)|0<p<1)$, in a population of size $N\\in \\{10, 100, 1000, 10000\\}$, with $0 < \\mu << 1/N$. Compare with the mean heterozygosity across all sites. Discuss with your partner: if the mean heterozygosity increases with $N$, why does the mean heterozygosity of segregating sites decrease? (Hint: see optional Problem 6 below).\n"
   ],
   "metadata": {
    "collapsed": false
   },
   "id": "11de4c2789d9b4ee"
  },
  {
   "cell_type": "code",
   "source": [
    "population_size_array = [10, 100, 1000, 10_000]\n",
    "mean_heterozygosity_segregating_sites = []\n",
    "# TODO"
   ],
   "metadata": {
    "collapsed": false
   },
   "id": "8122da7f38559242",
   "outputs": [],
   "execution_count": null
  },
  {
   "cell_type": "markdown",
   "source": [
    "<h3>Optional problems</h3>\n",
    "\n",
    "If you finish the problems above early, please work on the following problems with your partner. These are discussion questions, so there is no need to write down your solution; but of course, feel free to use simulations.\n",
    "\n",
    "<h5>Problem 6</h5>\n",
    "\n",
    "Discuss with your partner: suppose that in a population of size $N$, with $\\mu<<1/N$, you sample $S<N$ haplotypes without replacement and calculate the mean heterozygosity. Will it depend upon $N$, upon $S$, or both? \n",
    "\n",
    "<h5>Problem 7</h5>\n",
    "\n",
    "Discuss with your partner: as the study size $S$ increases, approximately how many segregating sites in total will be observed? What fraction of sites will be singletons? Do these quantities depend on $N$?\n",
    "\n",
    "<h5>Problem 8</h5>\n",
    "\n",
    "Next week, we will learn about *demography*, or population history. An important feature of human demography is a rapid increase in population size, over multiple time scales. Discuss with your partner: qualitatively, what influence does recent population expansion have on the SFS? (Hint: with constant population size, what is the average number of alleles that are fixed/lost per generation?)"
   ],
   "metadata": {
    "collapsed": false
   },
   "id": "2faa3e068e464c1b"
  }
 ],
 "metadata": {
  "kernelspec": {
   "display_name": "Python 3",
   "language": "python",
   "name": "python3"
  },
  "language_info": {
   "codemirror_mode": {
    "name": "ipython",
    "version": 2
   },
   "file_extension": ".py",
   "mimetype": "text/x-python",
   "name": "python",
   "nbconvert_exporter": "python",
   "pygments_lexer": "ipython2",
   "version": "2.7.6"
  }
 },
 "nbformat": 4,
 "nbformat_minor": 5
}
